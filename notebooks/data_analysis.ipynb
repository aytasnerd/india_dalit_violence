# Data Analysis

This Jupyter notebook contains analyses of the data collected.
